{
 "cells": [
  {
   "cell_type": "code",
   "execution_count": 1,
   "id": "c8194d90",
   "metadata": {},
   "outputs": [
    {
     "name": "stdout",
     "output_type": "stream",
     "text": [
      "Arquivos 'cfops_cleaned.csv' e 'regras_cleaned.csv' gerados com sucesso!\n"
     ]
    }
   ],
   "source": [
    "import pandas as pd\n",
    "import unicodedata\n",
    "\n",
    "def remove_accents(input_str):\n",
    "    \"\"\"\n",
    "    Remove acentos de uma string.\n",
    "    \"\"\"\n",
    "    if isinstance(input_str, str):\n",
    "        nfkd_form = unicodedata.normalize('NFKD', input_str)\n",
    "        return \"\".join([c for c in nfkd_form if not unicodedata.combining(c)])\n",
    "    return input_str\n",
    "\n",
    "def clean_text(text):\n",
    "    \"\"\"\n",
    "    Limpa e padroniza o texto, removendo acentos e espaços em branco.\n",
    "    \"\"\"\n",
    "    text = remove_accents(text)\n",
    "    if isinstance(text, str):\n",
    "        text = text.strip()\n",
    "    return text\n",
    "\n",
    "# Carregar os datasets\n",
    "try:\n",
    "    cfops_df = pd.read_csv('cfops.csv', sep=';')\n",
    "    regras_df = pd.read_csv('regras.csv', sep=';')\n",
    "\n",
    "    # Limpar a coluna 'Regra' em cfops_df\n",
    "    if 'Regra' in cfops_df.columns:\n",
    "        cfops_df['Regra'] = cfops_df['Regra'].apply(clean_text)\n",
    "\n",
    "    # Limpar e renomear a coluna 'Regra CFOP' em regras_df\n",
    "    if 'Regra CFOP' in regras_df.columns:\n",
    "        regras_df['Regra CFOP'] = regras_df['Regra CFOP'].apply(clean_text)\n",
    "        regras_df.rename(columns={'Regra CFOP': 'Regra'}, inplace=True)\n",
    "\n",
    "    # Salvar os dataframes limpos\n",
    "    cfops_df.to_csv('cfops_cleaned.csv', sep=';', index=False)\n",
    "    regras_df.to_csv('regras_cleaned.csv', sep=';', index=False)\n",
    "\n",
    "    print(\"Arquivos 'cfops_cleaned.csv' e 'regras_cleaned.csv' gerados com sucesso!\")\n",
    "\n",
    "except FileNotFoundError:\n",
    "    print(\"Erro: Verifique se os arquivos 'cfops.csv' e 'regras.csv' estão no mesmo diretório que o script.\")\n",
    "except Exception as e:\n",
    "    print(f\"Ocorreu um erro inesperado: {e}\")"
   ]
  }
 ],
 "metadata": {
  "kernelspec": {
   "display_name": "turimpython",
   "language": "python",
   "name": "python3"
  },
  "language_info": {
   "codemirror_mode": {
    "name": "ipython",
    "version": 3
   },
   "file_extension": ".py",
   "mimetype": "text/x-python",
   "name": "python",
   "nbconvert_exporter": "python",
   "pygments_lexer": "ipython3",
   "version": "3.11.8"
  }
 },
 "nbformat": 4,
 "nbformat_minor": 5
}
